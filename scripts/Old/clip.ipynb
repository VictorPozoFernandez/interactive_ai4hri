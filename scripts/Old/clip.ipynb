{
 "cells": [
  {
   "cell_type": "code",
   "execution_count": 37,
   "id": "dbaeb7af-58bf-4b85-ad21-90c16690998d",
   "metadata": {},
   "outputs": [
    {
     "name": "stderr",
     "output_type": "stream",
     "text": [
      "`text_config_dict` is provided which will be used to initialize `CLIPTextConfig`. The value `text_config[\"id2label\"]` will be overriden.\n"
     ]
    },
    {
     "name": "stdout",
     "output_type": "stream",
     "text": [
      "(3, 768)\n",
      "(768,)\n"
     ]
    }
   ],
   "source": [
    "from PIL import Image\n",
    "import requests\n",
    "from transformers import CLIPProcessor, CLIPModel\n",
    "import torch\n",
    "\n",
    "device = \"cuda\" if torch.cuda.is_available() else \"cpu\"\n",
    "model = CLIPModel.from_pretrained(\"openai/clip-vit-large-patch14\").to(device)\n",
    "processor = CLIPProcessor.from_pretrained(\"openai/clip-vit-large-patch14\")\n",
    "\n",
    "#Embedding text\n",
    "inputs = processor(text=[\"a photo of a cat\", \"a photo of a dog\", \"two cats laying in a sofa\"], return_tensors=\"pt\", padding=True).to(device)\n",
    "text_emb = model.get_text_features(**inputs)\n",
    "text_emb = text_emb.squeeze(0).cpu().detach().numpy()\n",
    "print(text_emb.shape)\n",
    "\n",
    "#Embbeding images\n",
    "url = \"http://images.cocodataset.org/val2017/000000039769.jpg\"\n",
    "image = Image.open(requests.get(url, stream=True).raw)\n",
    "\n",
    "inputs = processor(images=image, return_tensors=\"pt\", padding=True).to(device)\n",
    "image_emb = model.get_image_features(**inputs)\n",
    "image_emb = image_emb.squeeze(0).cpu().detach().numpy()\n",
    "print(image_emb.shape)\n",
    "\n"
   ]
  },
  {
   "cell_type": "code",
   "execution_count": 43,
   "id": "75096ef8-477f-4c7a-b2a2-d385d67a02f5",
   "metadata": {},
   "outputs": [
    {
     "name": "stdout",
     "output_type": "stream",
     "text": [
      "{'dimension': 768,\n",
      " 'index_fullness': 0.0,\n",
      " 'namespaces': {'example-namespace': {'vector_count': 3}},\n",
      " 'total_vector_count': 3}\n"
     ]
    }
   ],
   "source": [
    "#Save embeddings in Pinecone\n",
    "import pinecone\n",
    "\n",
    "pinecone.init(api_key=\"04d65f27-278f-40f0-9cfb-c907b84115a7\", environment=\"us-east4-gcp\")\n",
    "index_name=\"text-embeddings1\"\n",
    "\n",
    "if index_name not in pinecone.list_indexes():\n",
    "    pinecone.create_index(index_name, dimension = 768, metric = \"cosine\")\n",
    "\n",
    "index = pinecone.Index(index_name)\n",
    "\n",
    "upsert_response = index.upsert(\n",
    "    vectors=[\n",
    "        (\"vec1\", text_emb[0].tolist()),  \n",
    "        (\"vec2\", text_emb[1].tolist()), \n",
    "        (\"vec3\", text_emb[2].tolist())\n",
    "    ],\n",
    "    namespace=\"example-namespace\"\n",
    ")\n",
    "\n",
    "print(index.describe_index_stats())"
   ]
  },
  {
   "cell_type": "code",
   "execution_count": 49,
   "id": "e8c36429-5728-4dc0-b9db-e7b5837c4e7e",
   "metadata": {},
   "outputs": [
    {
     "name": "stdout",
     "output_type": "stream",
     "text": [
      "{'dimension': 768,\n",
      " 'index_fullness': 0.0,\n",
      " 'namespaces': {'example-namespace': {'vector_count': 3},\n",
      "                'example-namespace2': {'vector_count': 2}},\n",
      " 'total_vector_count': 5}\n"
     ]
    }
   ],
   "source": [
    "#Saving embeddings in different spaces (used to divide different elements)\n",
    "\n",
    "upsert_response = index.upsert(\n",
    "    vectors=[\n",
    "        (\"vec1\", text_emb[0].tolist()),  \n",
    "        (\"vec2\", text_emb[1].tolist())\n",
    "    ],\n",
    "    namespace=\"example-namespace2\"\n",
    ")\n",
    "\n",
    "print(index.describe_index_stats())"
   ]
  },
  {
   "cell_type": "code",
   "execution_count": 50,
   "id": "13603cb4-519d-44f9-be2a-c692581b0114",
   "metadata": {},
   "outputs": [
    {
     "name": "stdout",
     "output_type": "stream",
     "text": [
      "[{'id': 'vec1', 'score': 0.189040869, 'values': []}, {'id': 'vec2', 'score': 0.117158741, 'values': []}]\n"
     ]
    }
   ],
   "source": [
    "#Querying Pinecone (the response varies depending on the searched namespace)\n",
    "\n",
    "pinecone.init(api_key=\"04d65f27-278f-40f0-9cfb-c907b84115a7\", environment=\"us-east4-gcp\")\n",
    "index = pinecone.Index(\"text-embeddings1\")\n",
    "\n",
    "query_response = index.query(\n",
    "    namespace=\"example-namespace2\",\n",
    "    top_k=2,\n",
    "    vector=image_emb.tolist()\n",
    ")\n",
    "\n",
    "print(query_response.matches)"
   ]
  },
  {
   "cell_type": "code",
   "execution_count": null,
   "id": "6e7576e6-09be-4ba9-aff4-69e84caa2d08",
   "metadata": {},
   "outputs": [],
   "source": []
  }
 ],
 "metadata": {
  "kernelspec": {
   "display_name": "Python 3",
   "language": "python",
   "name": "python3"
  },
  "language_info": {
   "codemirror_mode": {
    "name": "ipython",
    "version": 3
   },
   "file_extension": ".py",
   "mimetype": "text/x-python",
   "name": "python",
   "nbconvert_exporter": "python",
   "pygments_lexer": "ipython3",
   "version": "3.8.10"
  }
 },
 "nbformat": 4,
 "nbformat_minor": 5
}
